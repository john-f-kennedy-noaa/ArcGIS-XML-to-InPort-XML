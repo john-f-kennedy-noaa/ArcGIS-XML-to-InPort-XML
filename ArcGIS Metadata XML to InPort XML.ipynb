{
 "cells": [
  {
   "cell_type": "markdown",
   "metadata": {},
   "source": [
    "# Export ArcGIS Metadata as InPort XML"
   ]
  },
  {
   "cell_type": "code",
   "execution_count": 7,
   "metadata": {},
   "outputs": [
    {
     "name": "stdout",
     "output_type": "stream",
     "text": [
      "Working . . .\n",
      "Dataset: PolygonExample\n",
      "Dataset: PointExample\n",
      "Dataset: TableExample\n",
      "Dataset: LineExample\n",
      "Dataset: IntRasterExample\n",
      "Dataset: FloatRasterExample\n",
      "Dataset: RasterMosaicExample\n",
      "Work Complete\n"
     ]
    }
   ],
   "source": [
    "import os, traceback\n",
    "import arcpy\n",
    "from arcpy import metadata as md\n",
    "\n",
    "# Get the Home Folder and the Default Geodatabase from the CURRENT ArcGIS Pro project\n",
    "home_folder = arcpy.mp.ArcGISProject(\"CURRENT\").homeFolder\n",
    "project_gdb = arcpy.mp.ArcGISProject(\"CURRENT\").defaultGeodatabase\n",
    "\n",
    "arcpy.env.overwriteOutput = True\n",
    "arcpy.env.workspace = project_gdb\n",
    "\n",
    "# Reference the XSL file to use for the transformation\n",
    "xsl_file  = rf\"{home_folder}\\ArcGIS2InportJFK.xsl\"\n",
    "    \n",
    "datasets = list()\n",
    "\n",
    "walk = arcpy.da.Walk(project_gdb)\n",
    "\n",
    "for dirpath, dirnames, filenames in walk:\n",
    "    for filename in filenames:\n",
    "        datasets.append(os.path.join(dirpath, filename))\n",
    "\n",
    "if len(datasets) == 0:\n",
    "    print(\"No datasets found.\")\n",
    "elif len(datasets) > 0:\n",
    "    print(\"Working . . .\")\n",
    "    for dataset in datasets:\n",
    "        print(f\"Dataset: {os.path.basename(dataset)}\")        \n",
    "        dataset_md = md.Metadata(dataset)\n",
    "        #dataset_md.synchronize(\"ALWAYS\")\n",
    "        #dataset_md.save()\n",
    "        #print(f\"{home_folder}\\Metadata Export\\{os.path.basename(dataset)}_InPort.xml\")\n",
    "        try:\n",
    "            dataset_md.exportMetadata(f\"{home_folder}\\Metadata Export\\{os.path.basename(dataset)}_InPort.xml\", \"CUSTOM\", \"EXACT_COPY\", xsl_file)\n",
    "        except arcpy.ExecuteError:\n",
    "            print(arcpy.GetMessages())\n",
    "        except:\n",
    "            traceback.print_exc()\n",
    "            arcpy.GetMessages()\n",
    "        del dataset_md\n",
    "        del dataset\n",
    "    print(\"Work Complete\")\n",
    "else:\n",
    "    pass\n",
    "del datasets\n",
    "    "
   ]
  }
 ],
 "metadata": {
  "kernelspec": {
   "display_name": "ArcGISPro",
   "language": "python",
   "name": "python3"
  },
  "language_info": {
   "file_extension": ".py",
   "mimetype": "text/x-python",
   "name": "python",
   "version": "3.11.10"
  }
 },
 "nbformat": 4,
 "nbformat_minor": 4
}
