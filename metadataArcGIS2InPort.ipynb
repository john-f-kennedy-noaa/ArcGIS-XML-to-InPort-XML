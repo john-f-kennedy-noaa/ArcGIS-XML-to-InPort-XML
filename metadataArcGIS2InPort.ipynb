{
 "cells": [
  {
   "cell_type": "code",
   "execution_count": 12,
   "metadata": {},
   "outputs": [],
   "source": [
    "import arcpy"
   ]
  },
  {
   "cell_type": "code",
   "execution_count": 13,
   "metadata": {},
   "outputs": [],
   "source": [
    "# ----- variables section ----\n",
    "home_folder = arcpy.mp.ArcGISProject(\"CURRENT\").homeFolder\n",
    "\n",
    "xsl_file  = rf\"{home_folder}\\ArcGIS2Inport.xsl\"\n",
    "#enter the gdb name here if using one, e.g. mystuff.gdb\n",
    "gdb_name = \"InPort\"\n",
    "#do not include .shp if using a shapefile\n",
    "fc_name = \"PolygonExample\"\n",
    "# before running this notebook, you set the required constants below\n",
    "#\n",
    "# defaultEffectiveDate is always required. Example 2018-06\n",
    "#    - defaultEffectiveDate (effective dates for contacts - there is no where to enter this in metadata so it must be entered in the xslt file)\n",
    "# one of these is always required\n",
    "#    - parentCatalogItemId (use when creating a new inport record, leave blank '' when updating an inport record)\n",
    "#    - catalogItemId (use when updating an inport record, leave bland '' when creating a new inport record)\n",
    "# the following are only needed if you do not provide these contacts directly in your metadata\n",
    "#    - defaultPointOfContactEmail (in ArcGIS Pro metadata, define this contact in Resource>Points of Contact)\n",
    "#    - defaultDataStewardEmail (in ArcGIS Pro metadata, define this contact in Overview>Citation Contacts)\n",
    "#    - defaultMetadataContactEmail (in ArcGIS Pro metadata, define this contact in Metadata>Contacts)\n",
    "#    - defaultOrganizationName (in ArcGIS Pro metadata, define this contact in Resource>Distribution>Distributor )\n",
    "parameters = {\n",
    "    'defaultEffectiveDate':\"2021-01\",\n",
    "    'parentCatalogItemId':\"99999\",\n",
    "    'catalogItemId':\"\",\n",
    "    'defaultPointOfContactEmail':\"pointofcontact@noaa.gov\",\n",
    "    'defaultDataStewardEmail':\"datasteward@noaa.gov\",\n",
    "    'defaultMetadataContactEmail':\"metadata@noaa.gov\",\n",
    "    'defaultOrganizationName':\"Default OrgName\"}\n",
    "# ----- end variables section ------"
   ]
  },
  {
   "cell_type": "code",
   "execution_count": 14,
   "metadata": {},
   "outputs": [
    {
     "name": "stdout",
     "output_type": "stream",
     "text": [
      "'defaultEffectiveDate'\n",
      "'parentCatalogItemId'\n",
      "'catalogItemId'\n",
      "'defaultPointOfContactEmail'\n",
      "'defaultDataStewardEmail'\n",
      "'defaultMetadataContactEmail'\n",
      "'defaultOrganizationName'\n"
     ]
    }
   ],
   "source": [
    "# Read in the xsl file and replace the parameter values\n",
    "with open(xsl_file, 'r') as file :\n",
    "  file_data = file.read()\n",
    "\n",
    "for k in parameters:\n",
    "    print(\"'\"+k+\"'\")\n",
    "    # Replace the target string\n",
    "    #file_data = file_data.replace(\"[\"+k+\"]\", parameters[k])\n",
    "    file_data = file_data.replace(\"'\"+k+\"'\", parameters[k])\n",
    "\n",
    "# Write the file out again to the workspace folder\n",
    "with open(xsl_file, 'w') as file:\n",
    "  file.write(file_data)"
   ]
  },
  {
   "cell_type": "code",
   "execution_count": 15,
   "metadata": {},
   "outputs": [
    {
     "name": "stdout",
     "output_type": "stream",
     "text": [
      "Working\n",
      "\n",
      "Dataset: PolygonExample\n",
      "\n",
      "Dataset: PolygonExample_Polygon2PointsScript\n",
      "Work Complete\n"
     ]
    }
   ],
   "source": [
    "import os\n",
    "from arcpy import metadata as md\n",
    "\n",
    "arcpy.env.overwriteOutput = True\n",
    "\n",
    "if gdb_name:\n",
    "    arcpy.env.workspace = rf\"{home_folder}\\{gdb_name}.gdb\"\n",
    "else:\n",
    "    arcpy.env.workspace = rf\"{home_folder}\"\n",
    "    \n",
    "fcs = arcpy.ListFeatureClasses(f\"{fc_name}*\")\n",
    "\n",
    "if len(fcs) == 0:\n",
    "    print(\"Can't find feature class or shapefile\")\n",
    "else:\n",
    "    print(\"Working\")\n",
    "    for fc in fcs:\n",
    "        print(f\"\\nDataset: {os.path.basename(fc)}\")\n",
    "        fc_md = md.Metadata(fc)\n",
    "        fc_md.synchronize(\"ALWAYS\")\n",
    "        fc_md.save()\n",
    "        fc_md.exportMetadata(f\"{home_folder}\\{fc_name}_InPort.xml\", \"CUSTOM\", \"EXACT_COPY\", xsl_file)\n",
    "        \n",
    "        del fc_md\n",
    "        del fc\n",
    "    print(\"Work Complete\")\n",
    "del fcs\n",
    "    "
   ]
  },
  {
   "cell_type": "code",
   "execution_count": null,
   "metadata": {},
   "outputs": [],
   "source": []
  }
 ],
 "metadata": {
  "kernelspec": {
   "display_name": "ArcGISPro",
   "language": "python",
   "name": "python3"
  },
  "language_info": {
   "file_extension": ".py",
   "mimetype": "text/x-python",
   "name": "python",
   "version": "3.11.10"
  }
 },
 "nbformat": 4,
 "nbformat_minor": 4
}
