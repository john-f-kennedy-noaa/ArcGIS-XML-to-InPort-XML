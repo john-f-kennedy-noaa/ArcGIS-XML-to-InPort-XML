{
 "cells": [
  {
   "cell_type": "code",
   "execution_count": 1,
   "metadata": {},
   "outputs": [],
   "source": [
    "import arcpy"
   ]
  },
  {
   "cell_type": "code",
   "execution_count": 4,
   "metadata": {},
   "outputs": [],
   "source": [
    "from arcpy import metadata as md"
   ]
  },
  {
   "cell_type": "code",
   "execution_count": null,
   "metadata": {},
   "outputs": [],
   "source": [
    "# ----- variables section -------"
   ]
  },
  {
   "cell_type": "code",
   "execution_count": 5,
   "metadata": {},
   "outputs": [],
   "source": [
    "# This is where you saved the template xsl files\n",
    "xslTemplatePath = \"C:\\\\Users\\\\tim.haverland\\\\Documents\\\\ArcGIS\\\\Projects\\\\ArcGIS2InPort\""
   ]
  },
  {
   "cell_type": "code",
   "execution_count": null,
   "metadata": {},
   "outputs": [],
   "source": [
    "# make sure the name of the xsl style sheet is up-to-date\n",
    "entityXslFilename = \"ArcGIS2InPort_entityV02.xsl\""
   ]
  },
  {
   "cell_type": "code",
   "execution_count": 6,
   "metadata": {},
   "outputs": [],
   "source": [
    "# this is the path that your shapefile or geodatabase resides in\n",
    "workspacepath = \"C:\\\\Users\\\\tim.haverland\\\\Documents\\\\ArcGIS\\\\Projects\\\\metadatafromscratch\""
   ]
  },
  {
   "cell_type": "code",
   "execution_count": null,
   "metadata": {},
   "outputs": [],
   "source": [
    "#enter the gdb name here if using one, e.g. mystuff.gdb\n",
    "gdbname = \"\" "
   ]
  },
  {
   "cell_type": "code",
   "execution_count": null,
   "metadata": {},
   "outputs": [],
   "source": [
    "#do not include .shp if using a shapefile\n",
    "fcname = \"template_poly_range\" "
   ]
  },
  {
   "cell_type": "code",
   "execution_count": 12,
   "metadata": {},
   "outputs": [],
   "source": [
    "# before running this notebook, you set the required constants below:\n",
    "#    - parentCatalogItemId (use when creating a new inport record, leave blank '' when updating an inport record)\n",
    "#    - catalogItemId (use when updating an inport record, leave bland '' when creating a new inport record)\n"
   ]
  },
  {
   "cell_type": "code",
   "execution_count": 21,
   "metadata": {},
   "outputs": [],
   "source": [
    "parameters = {\n",
    "    'parentCatalogItemId':\"99999\",\n",
    "    'catalogItemId':\"\",\n",
    "}"
   ]
  },
  {
   "cell_type": "code",
   "execution_count": null,
   "metadata": {},
   "outputs": [],
   "source": [
    "# ----- end variables section -----"
   ]
  },
  {
   "cell_type": "code",
   "execution_count": 22,
   "metadata": {},
   "outputs": [],
   "source": [
    "# Read in the xsl file and replace the parameter values\n",
    "with open(xslTemplatePath+\"\\\\\"+entityXslFilename, 'r') as file :\n",
    "  filedata = file.read()\n",
    "\n",
    "for k in parameters:\n",
    "    # Replace the target string\n",
    "    filedata = filedata.replace(\"[\"+k+\"]\", parameters[k])\n",
    "\n",
    "# Write the file out again to the workspace folder\n",
    "with open(workspacepath+\"\\\\\"+entityXslFilename, 'w') as file:\n",
    "  file.write(filedata)"
   ]
  },
  {
   "cell_type": "code",
   "execution_count": 25,
   "metadata": {},
   "outputs": [],
   "source": [
    "arcpy.env.overwriteOutput = True"
   ]
  },
  {
   "cell_type": "code",
   "execution_count": 26,
   "metadata": {},
   "outputs": [],
   "source": [
    "if gdbname:\n",
    "    arcpy.env.workspace = workspacepath+\"/\"+gdbname\n",
    "else:\n",
    "    arcpy.env.workspace = workspacepath"
   ]
  },
  {
   "cell_type": "code",
   "execution_count": 27,
   "metadata": {},
   "outputs": [],
   "source": [
    "fcs = arcpy.ListFeatureClasses(fcname+\"*\")"
   ]
  },
  {
   "cell_type": "code",
   "execution_count": 28,
   "metadata": {},
   "outputs": [
    {
     "name": "stdout",
     "output_type": "stream",
     "text": [
      "working\n"
     ]
    }
   ],
   "source": [
    "if len(fcs) == 0:\n",
    "    print(\"Can't find feature class or shapefile\")\n",
    "else:\n",
    "    print(\"working\")\n",
    "    layer_metadata = md.Metadata(fcs[0])\n",
    "    layer_metadata.exportMetadata(workspacepath+\"/\"+fcname+\"InPortEntity.xml\",\"CUSTOM\",\"EXACT_COPY\",workspacepath+\"/\"+entityXslFilename)    "
   ]
  },
  {
   "cell_type": "code",
   "execution_count": null,
   "metadata": {},
   "outputs": [],
   "source": []
  }
 ],
 "metadata": {
  "kernelspec": {
   "display_name": "Python 3",
   "language": "python",
   "name": "python3"
  },
  "language_info": {
   "codemirror_mode": {
    "name": "ipython",
    "version": 3
   },
   "file_extension": ".py",
   "mimetype": "text/x-python",
   "name": "python",
   "nbconvert_exporter": "python",
   "pygments_lexer": "ipython3",
   "version": "3.7.9"
  }
 },
 "nbformat": 4,
 "nbformat_minor": 2
}
