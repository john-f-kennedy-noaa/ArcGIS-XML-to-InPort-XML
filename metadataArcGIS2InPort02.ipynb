{
 "cells": [
  {
   "cell_type": "code",
   "execution_count": 3,
   "metadata": {},
   "outputs": [],
   "source": [
    "import arcpy"
   ]
  },
  {
   "cell_type": "code",
   "execution_count": 4,
   "metadata": {},
   "outputs": [],
   "source": [
    "from arcpy import metadata as md"
   ]
  },
  {
   "cell_type": "code",
   "execution_count": null,
   "metadata": {},
   "outputs": [],
   "source": [
    "# ----- variables section ----"
   ]
  },
  {
   "cell_type": "code",
   "execution_count": 5,
   "metadata": {},
   "outputs": [],
   "source": [
    "xslTemplatePath = \"C:\\\\Users\\\\tim.haverland\\\\Documents\\\\ArcGIS\\\\Projects\\\\ArcGIS2InPort\""
   ]
  },
  {
   "cell_type": "code",
   "execution_count": null,
   "metadata": {},
   "outputs": [],
   "source": [
    "mainXslFilename = \"ArcGIS2InportV07.xsl\""
   ]
  },
  {
   "cell_type": "code",
   "execution_count": 6,
   "metadata": {},
   "outputs": [],
   "source": [
    "workspacepath = \"C:\\\\Users\\\\tim.haverland\\\\Documents\\\\ArcGIS\\\\Projects\\\\metadatafromscratch\""
   ]
  },
  {
   "cell_type": "code",
   "execution_count": null,
   "metadata": {},
   "outputs": [],
   "source": [
    "#enter the gdb name here if using one, e.g. mystuff.gdb\n",
    "gdbname = \"\""
   ]
  },
  {
   "cell_type": "code",
   "execution_count": null,
   "metadata": {},
   "outputs": [],
   "source": [
    "#do not include .shp if using a shapefile\n",
    "fcname = \"template_poly_range\" "
   ]
  },
  {
   "cell_type": "code",
   "execution_count": 8,
   "metadata": {},
   "outputs": [],
   "source": [
    "# before running this notebook, you set the required constants below\n",
    "#\n",
    "# defaultEffectiveDate is always required. Example 2018-06\n",
    "#    - defaultEffectiveDate (effective dates for contacts - there is no where to enter this in metadata so it must be entered in the xslt file)\n",
    "# one of these is always required\n",
    "#    - parentCatalogItemId (use when creating a new inport record, leave blank '' when updating an inport record)\n",
    "#    - catalogItemId (use when updating an inport record, leave bland '' when creating a new inport record)\n",
    "# the following are only needed if you do not provide these contacts directly in your metadata\n",
    "#    - defaultPointOfContactEmail (in ArcGIS Pro metadata, define this contact in Resource>Points of Contact)\n",
    "#    - defaultDataStewardEmail (in ArcGIS Pro metadata, define this contact in Overview>Citation Contacts)\n",
    "#    - defaultMetadataContactEmail (in ArcGIS Pro metadata, define this contact in Metadata>Contacts)\n",
    "#    - defaultOrganizationName (in ArcGIS Pro metadata, define this contact in Resource>Distribution>Distributor )"
   ]
  },
  {
   "cell_type": "code",
   "execution_count": 15,
   "metadata": {},
   "outputs": [],
   "source": [
    "parameters = {\n",
    "    'defaultEffectiveDate':\"2021-01\",\n",
    "    'parentCatalogItemId':\"99999\",\n",
    "    'catalogItemId':\"\",\n",
    "    'defaultPointOfContactEmail':\"pointofcontact@noaa.gov\",\n",
    "    'defaultDataStewardEmail':\"datasteward@noaa.gov\",\n",
    "    'defaultMetadataContactEmail':\"metadata@noaa.gov\",\n",
    "    'defaultOrganizationName':\"Default OrgName\"}"
   ]
  },
  {
   "cell_type": "code",
   "execution_count": null,
   "metadata": {},
   "outputs": [],
   "source": [
    "# ----- end variables section ------"
   ]
  },
  {
   "cell_type": "code",
   "execution_count": 18,
   "metadata": {},
   "outputs": [],
   "source": [
    "# Read in the xsl file and replace the parameter values\n",
    "with open(xslTemplatePath+\"\\\\\"+mainXslFilename, 'r') as file :\n",
    "  filedata = file.read()\n",
    "\n",
    "for k in parameters:\n",
    "    # Replace the target string\n",
    "    filedata = filedata.replace(\"[\"+k+\"]\", parameters[k])\n",
    "\n",
    "# Write the file out again to the workspace folder\n",
    "with open(workspacepath+\"\\\\\"+mainXslFilename, 'w') as file:\n",
    "  file.write(filedata)"
   ]
  },
  {
   "cell_type": "code",
   "execution_count": 22,
   "metadata": {},
   "outputs": [],
   "source": [
    "arcpy.env.overwriteOutput = True"
   ]
  },
  {
   "cell_type": "code",
   "execution_count": 23,
   "metadata": {},
   "outputs": [],
   "source": [
    "if gdbname:\n",
    "    arcpy.env.workspace = workspacepath+\"/\"+gdbname\n",
    "else:\n",
    "    arcpy.env.workspace = workspacepath"
   ]
  },
  {
   "cell_type": "code",
   "execution_count": 24,
   "metadata": {},
   "outputs": [],
   "source": [
    "fcs = arcpy.ListFeatureClasses(fcname+\"*\")"
   ]
  },
  {
   "cell_type": "code",
   "execution_count": 26,
   "metadata": {},
   "outputs": [
    {
     "name": "stdout",
     "output_type": "stream",
     "text": [
      "working\n"
     ]
    }
   ],
   "source": [
    "if len(fcs) == 0:\n",
    "    print(\"Can't find feature class or shapefile\")\n",
    "else:\n",
    "    print(\"working\")\n",
    "    layer_metadata = md.Metadata(fcs[0])\n",
    "    layer_metadata.exportMetadata(workspacepath+\"/\"+fcname+\"InPort.xml\",\"CUSTOM\",\"EXACT_COPY\",workspacepath+\"/\"+mainXslFilename)\n",
    "    "
   ]
  },
  {
   "cell_type": "code",
   "execution_count": null,
   "metadata": {},
   "outputs": [],
   "source": []
  }
 ],
 "metadata": {
  "kernelspec": {
   "display_name": "Python 3",
   "language": "python",
   "name": "python3"
  },
  "language_info": {
   "codemirror_mode": {
    "name": "ipython",
    "version": 3
   },
   "file_extension": ".py",
   "mimetype": "text/x-python",
   "name": "python",
   "nbconvert_exporter": "python",
   "pygments_lexer": "ipython3",
   "version": "3.7.9"
  }
 },
 "nbformat": 4,
 "nbformat_minor": 2
}
