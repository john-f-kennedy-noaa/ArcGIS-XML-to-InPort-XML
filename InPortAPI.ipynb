{
 "cells": [
  {
   "cell_type": "code",
   "execution_count": 35,
   "metadata": {},
   "outputs": [],
   "source": [
    "import user_credentials\n",
    "credentials = user_credentials.main()"
   ]
  },
  {
   "cell_type": "markdown",
   "metadata": {},
   "source": [
    "# InPort API (Beta) #\n",
    "###### https://docs.google.com/document/d/1txAdY6YChEcdOoEWquF3GzT6yBvpHOiuOJIQvWNZHaE/edit?tab=t.0#heading=h.mij7lb2wckgv ######"
   ]
  },
  {
   "cell_type": "markdown",
   "metadata": {},
   "source": [
    "## Loader API Specs ###"
   ]
  },
  {
   "cell_type": "markdown",
   "metadata": {},
   "source": [
    "### Authentication ###"
   ]
  },
  {
   "cell_type": "code",
   "execution_count": 36,
   "metadata": {},
   "outputs": [
    {
     "name": "stdout",
     "output_type": "stream",
     "text": [
      "Authentication successful!\n"
     ]
    }
   ],
   "source": [
    "import requests, json\n",
    "inport_url = \"https://test-www.fisheries.noaa.gov/inport\"\n",
    "inport_response = requests.get(url=inport_url, auth=(credentials[\"username\"], credentials[\"password\"]))\n",
    "if inport_response.status_code == 200:\n",
    "    print(\"Authentication successful!\")\n",
    "elif inport_response.status_code == 401:\n",
    "    print(\"Authentication NOT successful!\")\n",
    "else:\n",
    "    print(f\"Something is wrong!! Status Code: {response.status_code}\")\n",
    "inport_response.close()\n",
    "del inport_response, inport_url\n",
    "# RESULT ###--->>> Authentication successful!"
   ]
  },
  {
   "cell_type": "markdown",
   "metadata": {},
   "source": [
    "### Get Session ID ###\n",
    "#### /inport/api/get-session-id ####\n",
    "#### (POST) ####"
   ]
  },
  {
   "cell_type": "code",
   "execution_count": 37,
   "metadata": {},
   "outputs": [
    {
     "name": "stdout",
     "output_type": "stream",
     "text": [
      "Authentication successful!\n",
      "{'sessionId': '22469789aebb6c1fcaad6669'}\n"
     ]
    }
   ],
   "source": [
    "import requests, json, copy\n",
    "inport_url = \"https://test-www.fisheries.noaa.gov/inport\"\n",
    "inport_response = requests.get(url=inport_url, auth=(credentials[\"username\"], credentials[\"password\"]))\n",
    "if inport_response.status_code == 200:\n",
    "    print(\"Authentication successful!\")\n",
    "    _url = \"https://test-www.fisheries.noaa.gov/inport/api/get-session-id\"\n",
    "    session_id_response = requests.post(_url, json = credentials)\n",
    "    session_id_dict = copy.deepcopy(session_id_response.json())\n",
    "    print(session_id_dict)\n",
    "    session_id_response.close()\n",
    "    del _url, session_id_response\n",
    "elif inport_response.status_code == 401:\n",
    "    print(\"Authentication NOT successful!\")\n",
    "else:\n",
    "    print(f\"Something is wrong!! Status Code: {response.status_code}\")\n",
    "inport_response.close()\n",
    "del inport_response, inport_url\n",
    "# RESULT ###--->>> Authentication successful!\n",
    "# {'sessionId': 'b7f9fb6bf34a6be8b357020e'}"
   ]
  },
  {
   "cell_type": "markdown",
   "metadata": {},
   "source": [
    "### Endpoints ###"
   ]
  },
  {
   "cell_type": "markdown",
   "metadata": {},
   "source": [
    "### Load InPort XML ###\n",
    "#### /inport/api/load-inport-xml ####\n",
    "#### (POST) ####\n",
    "#### NOTE: Not ready for this yet ####"
   ]
  },
  {
   "cell_type": "code",
   "execution_count": 46,
   "metadata": {},
   "outputs": [
    {
     "name": "stdout",
     "output_type": "stream",
     "text": [
      "Authentication successful!\n",
      "{'sessionId': '7819a106ac3abe6dad9d5e71', 'xml': '<?xml version=\\'1.0\\' encoding=\\'UTF-8\\'?>\\n<inport-metadata xmlns:xs=\"http://www.w3.org/2001/XMLSchema\" version=\"1.11\" source=\"https://test-www.fisheries.noaa.gov\"><item-identification><catalog-item-id>75728</catalog-item-id><title>Vector Digital Data Template</title><catalog-item-type>Data Set</catalog-item-type><metadata-workflow-state ccs-id=\"4\">Draft</metadata-workflow-state><parent-catalog-item-id/><parent-title>NOAA Distribution Mapping and Analysis Portal (DisMAP)</parent-title><parent-catalog-item-type>Project</parent-catalog-item-type><status>Completed</status><publication-date>2025-05-08</publication-date><abstract>Description of Vector Digital Data Template</abstract><purpose>Purpose Vector Digital Data Template</purpose></item-identification><keywords><keyword controlled=\"Yes\"><keyword-type>Theme</keyword-type><thesaurus>ISO 19115 Topic Category</thesaurus><keyword>environment</keyword></keyword><keyword controlled=\"Yes\"><keyword-type>Theme</keyword-type><thesaurus>ISO 19115 Topic Category</thesaurus><keyword>inlandWaters</keyword></keyword><keyword controlled=\"Yes\"><keyword-type>Theme</keyword-type><thesaurus>ISO 19115 Topic Category</thesaurus><keyword>oceans</keyword></keyword></keywords><data-set-information><data-set-scope-code>Data Set</data-set-scope-code><maintenance-frequency>As Needed</maintenance-frequency><data-presentation-form>Map (digital)</data-presentation-form><data-set-credit>NMFS OST</data-set-credit></data-set-information><entity-attribute-information partial-listing=\"No\" total-count=\"1\"><entity><item-identification><catalog-item-id>75757</catalog-item-id><title>vector_digital_data</title><metadata-workflow-state ccs-id=\"4\">Draft</metadata-workflow-state></item-identification><entity-information><entity-type>Data Table</entity-type><active-version>Yes</active-version><description>A collection of geographic features with the same geometry type.; Source: Esri</description></entity-information><data-attributes partial-listing=\"No\" total-count=\"2\"><data-attribute cc-id=\"1133986\"><seq-order>1</seq-order><name>OBJECTID</name><data-storage-type>n/a</data-storage-type><required>No</required><primary-key>No</primary-key><status>Active</status><description>Internal feature number.; Source: Esri</description><allowed-values>Sequential unique whole numbers that are automatically generated.</allowed-values></data-attribute><data-attribute cc-id=\"1133987\"><seq-order>2</seq-order><name>Shape</name><data-storage-type>n/a</data-storage-type><required>No</required><primary-key>No</primary-key><status>Active</status><description>Feature geometry.; Source: Esri</description><allowed-values>Coordinates defining the features.</allowed-values></data-attribute></data-attributes></entity></entity-attribute-information><support-roles><support-role cc-id=\"1133974\" in-effect=\"Yes\"><support-role-type>Data Steward</support-role-type><from-date>2025-01-01</from-date><contact-type>Person</contact-type><contact-name>Weng, Changhua</contact-name><contact-email>changhua.weng@noaa.gov</contact-email></support-role><support-role cc-id=\"1133975\" in-effect=\"Yes\"><support-role-type>Distributor</support-role-type><from-date>2025-01-01</from-date><contact-type>Organization</contact-type><contact-name>NMFS Office of Science and Technology</contact-name><contact-noaa-acronym>OST</contact-noaa-acronym><contact-address>1315 East West Highway</contact-address><contact-address-city>Silver Spring</contact-address-city><contact-address-state>MD</contact-address-state><contact-address-zip>20910</contact-address-zip><contact-address-country>USA</contact-address-country><contact-phone-number>301-427-8100</contact-phone-number><contact-url>https://www.st.nmfs.noaa.gov/</contact-url><contact-business-hours>0700 - 1800 EST/EDT</contact-business-hours></support-role><support-role cc-id=\"1133977\" in-effect=\"Yes\"><support-role-type>Metadata Contact</support-role-type><from-date>2025-01-01</from-date><contact-type>Person</contact-type><contact-name>Weng, Changhua</contact-name><contact-email>changhua.weng@noaa.gov</contact-email></support-role><support-role cc-id=\"1133976\" in-effect=\"Yes\"><support-role-type>Point of Contact</support-role-type><from-date>2025-01-01</from-date><contact-type>Person</contact-type><contact-name>Weng, Changhua</contact-name><contact-email>changhua.weng@noaa.gov</contact-email></support-role></support-roles><extents><currentness-reference>Publication Date</currentness-reference><extent cc-id=\"1133983\"><description>Description of geographic extent for vector digital data</description><geographic-areas><geographic-area cc-id=\"1133985\"><west-bound>-180</west-bound><east-bound>180</east-bound><north-bound>90</north-bound><south-bound>-90</south-bound></geographic-area></geographic-areas><time-frames><time-frame cc-id=\"1133984\"><time-frame-type>Discrete</time-frame-type><start-date-time>2025-05-08T00:00:00</start-date-time></time-frame></time-frames></extent></extents><access-information><security-class>Unclassified</security-class><data-use-constraints>Use Limitations</data-use-constraints></access-information><distribution-information><distribution cc-id=\"1133978\"><download-url>https://noaa.arcgis.com</download-url><distributor cc-id=\"1133975\"><from-date>2025-01-01</from-date><contact-type>Organization</contact-type><contact-name>NMFS Office of Science and Technology</contact-name></distributor><description>Data access URL</description><distribution-format>ESRI REST Service</distribution-format></distribution></distribution-information><urls><url cc-id=\"1133981\"><url>https://www.fisheries.noaa.gov/about/office-science-and-technology</url><name>NMFS Office of Science and Technology</name><url-type>Online Resource</url-type><file-resource-format>Information</file-resource-format><description>NOAA Fisheries Office of Science and Technology</description></url></urls><technical-environment><description>Windows 10, ArcGIS Pro 3.4.x</description></technical-environment><data-quality><conceptual-consistency>\\n            \\n                \\n                    \\n                        Project Documentation\\n                        \\n                            2025-05-08T00:00:00\\n                        \\n                    \\n                    1\\n                    Geometry features and attribute values reviewed by project team for conformance with project documentation.\\n                \\n            \\n</conceptual-consistency></data-quality><lineage><lineage-statement>The data was gathered, updated, and metadata completed.</lineage-statement><lineage-sources><lineage-source cc-id=\"1133979\"><citation-title>Project Documentation 2025</citation-title><source-contribution>Project documentation</source-contribution></lineage-source></lineage-sources><lineage-process-steps><lineage-process-step cc-id=\"1133980\"><sequence-number>1</sequence-number><description>The data was gathered, updated, and metadata completed.</description><process-date-time>2025-05-08T00:00:00</process-date-time><process-contact><contact-type>Organization</contact-type><contact-name>NMFS Office of Science and Technology</contact-name><contact-noaa-acronym>OST</contact-noaa-acronym><contact-address>1315 East West Highway</contact-address><contact-address-city>Silver Spring</contact-address-city><contact-address-state>MD</contact-address-state><contact-address-zip>20910</contact-address-zip><contact-address-country>USA</contact-address-country><contact-phone-number>301-427-8100</contact-phone-number><contact-url>https://www.st.nmfs.noaa.gov/</contact-url><contact-business-hours>0700 - 1800 EST/EDT</contact-business-hours></process-contact></lineage-process-step></lineage-process-steps></lineage><child-items><child-item><catalog-item-id>75757</catalog-item-id><catalog-item-type>Entity</catalog-item-type><title>vector_digital_data</title></child-item></child-items><catalog-details><guid>gov.noaa.nmfs.inport:75728</guid><metadata-record-created-by pers-id=\"9808\">John Kennedy</metadata-record-created-by><metadata-record-created>2025-05-07T22:58:21</metadata-record-created><metadata-record-last-modified-by pers-id=\"9808\">John Kennedy</metadata-record-last-modified-by><metadata-record-last-modified>2025-05-09T18:34:08</metadata-record-last-modified><record-published>2025-05-09</record-published><owner-organization>NMFS Office of Science and Technology</owner-organization><owner-organization-acronym>OST</owner-organization-acronym><owner-organization-address>1315 East West Highway</owner-organization-address><owner-organization-address-city>Silver Spring</owner-organization-address-city><owner-organization-address-state>MD</owner-organization-address-state><owner-organization-address-zip>20910</owner-organization-address-zip><owner-organization-address-country>USA</owner-organization-address-country><owner-organization-phone>301-427-8100</owner-organization-phone><owner-organization-url>https://www.st.nmfs.noaa.gov/</owner-organization-url><owner-organization-business-hours>0700 - 1800 EST/EDT</owner-organization-business-hours><owner-organization-group-id>1001</owner-organization-group-id><publication-status>Never Published</publication-status><best-available-metadata>No</best-available-metadata><is-do-not-publish>No</is-do-not-publish><metadata-review-frequency>1 Year</metadata-review-frequency></catalog-details></inport-metadata>'}\n",
      "<Response [400]>\n"
     ]
    }
   ],
   "source": [
    "import requests, json, copy\n",
    "inport_url = \"https://test-www.fisheries.noaa.gov/inport\"\n",
    "inport_response = requests.get(url=inport_url, auth=(credentials[\"username\"], credentials[\"password\"]))\n",
    "if inport_response.status_code == 200:\n",
    "    print(\"Authentication successful!\")\n",
    "\n",
    "    _url = \"https://test-www.fisheries.noaa.gov/inport/api/get-session-id\"\n",
    "    session_id_response = requests.post(_url, json = credentials)\n",
    "    session_id_dict = copy.deepcopy(session_id_response.json())\n",
    "    #print(session_id_dict)\n",
    "    session_id_response.close()\n",
    "    del _url, session_id_response\n",
    "\n",
    "    from lxml import etree\n",
    "    from io import StringIO\n",
    "\n",
    "    xml = r\"C:\\Users\\john.f.kennedy\\Documents\\ArcGIS\\Projects\\ArcGIS-XML-to-InPort-XML\\inport-xml.xml\"\n",
    "    parser = etree.XMLParser(encoding='UTF-8', remove_blank_text=True)\n",
    "    tree = etree.parse(xml, parser=parser)\n",
    "\n",
    "    session_id_dict[\"xml\"] = etree.tostring(tree, encoding='UTF-8', method='xml', xml_declaration=True).decode()\n",
    "    #print(session_id_dict)\n",
    "    _url = \"https://test-www.fisheries.noaa.gov/inport/api/load-inport-xml\"\n",
    "    response = requests.get(_url, params = session_id_dict)        \n",
    "    if response.status_code == 200:\n",
    "        print(response)\n",
    "        _dict = copy.deepcopy(response.json())\n",
    "        response.close()\n",
    "    \n",
    "        for key in _dict:\n",
    "            print(key)\n",
    "            if isinstance(_dict[key], dict):\n",
    "                for k in _dict[key]:\n",
    "                    print(f\"\\t{k}: {_dict[key][k]}\")\n",
    "            elif isinstance(_dict[key], list):\n",
    "                for i in range(0, len(_dict[key])):\n",
    "                    for k in _dict[key][i]:\n",
    "                        print(f\"\\t{k}: {_dict[key][i][k]}\")\n",
    "                    print()\n",
    "  \n",
    "    elif response.status_code == 400:\n",
    "        print(session_id_dict)    \n",
    "        print(response)        \n",
    "    \n",
    "    else:\n",
    "        print(f\"Something is wrong!! Status Code: {response.status_code}\")\n",
    "\n",
    "    del response, _url\n",
    "    \n",
    "elif inport_response.status_code == 401:\n",
    "    print(\"Authentication NOT successful!\")\n",
    "else:\n",
    "    print(f\"Something is wrong!! Status Code: {response.status_code}\")\n",
    "inport_response.close()\n",
    "del inport_response, inport_url\n",
    "# RESULT ###--->>> Authentication successful!"
   ]
  },
  {
   "cell_type": "markdown",
   "metadata": {},
   "source": [
    "### Get path from root ###\n",
    "#### /inport/api/get-path-from-root ####\n",
    "#### (POST) ####"
   ]
  },
  {
   "cell_type": "code",
   "execution_count": null,
   "metadata": {},
   "outputs": [],
   "source": [
    "import requests, json, copy\n",
    "inport_url = \"https://test-www.fisheries.noaa.gov/inport\"\n",
    "inport_response = requests.get(url=inport_url, auth=(credentials[\"username\"], credentials[\"password\"]))\n",
    "if inport_response.status_code == 200:\n",
    "    print(\"Authentication successful!\")\n",
    "    _url = \"https://test-www.fisheries.noaa.gov/inport/api/get-session-id\"\n",
    "    session_id_response = requests.post(_url, json = credentials)\n",
    "    session_id_dict = copy.deepcopy(session_id_response.json())\n",
    "    print(session_id_dict)\n",
    "    session_id_response.close()\n",
    "    del _url, session_id_response    \n",
    "    session_id_dict[\"catId\"] = \"75728\"\n",
    "    _url = \"https://test-www.fisheries.noaa.gov/inport/api/get-path-from-root\"\n",
    "    response = requests.get(_url, params = session_id_dict)        \n",
    "    #print(response.json())\n",
    "    _dict = copy.deepcopy(response.json())\n",
    "    \n",
    "    response.close()\n",
    "    del response, _url\n",
    "    \n",
    "    for key in _dict:\n",
    "        print(key)\n",
    "        if isinstance(_dict[key], dict):\n",
    "            for k in _dict[key]:\n",
    "                print(f\"\\t{k}: {_dict[key][k]}\")\n",
    "        elif isinstance(_dict[key], list):\n",
    "            for i in range(0, len(_dict[key])):\n",
    "                for k in _dict[key][i]:\n",
    "                    print(f\"\\t{k}: {_dict[key][i][k]}\")\n",
    "                print()\n",
    "\n",
    "\n",
    "elif inport_response.status_code == 401:\n",
    "    print(\"Authentication NOT successful!\")\n",
    "else:\n",
    "    print(f\"Something is wrong!! Status Code: {response.status_code}\")\n",
    "inport_response.close()\n",
    "del inport_response, inport_url\n",
    "# RESULT \n",
    "# Authentication successful!\n",
    "# {'sessionId': '75c3628752d91a126fcbded22998f3e'}\n",
    "# path\n",
    "# \tcatId: 1196\n",
    "# \tcatItemType: LIB\n",
    "# \ttitle: Office of Science and Technology Metadata Library\n",
    "# \tshortName: OST Metadata Library\n",
    "# \townerOrgAcronym: OST"
   ]
  },
  {
   "cell_type": "markdown",
   "metadata": {},
   "source": [
    "## Contacts API Specs ###"
   ]
  },
  {
   "cell_type": "markdown",
   "metadata": {},
   "source": [
    "### Endpoints ###"
   ]
  },
  {
   "cell_type": "markdown",
   "metadata": {},
   "source": [
    "#### /inport/api/find-contact ####\n",
    "#### (POST) ####"
   ]
  },
  {
   "cell_type": "code",
   "execution_count": null,
   "metadata": {},
   "outputs": [],
   "source": [
    "import requests, json, copy\n",
    "inport_url = \"https://test-www.fisheries.noaa.gov/inport\"\n",
    "inport_response = requests.get(url=inport_url, auth=(credentials[\"username\"], credentials[\"password\"]))\n",
    "if inport_response.status_code == 200:\n",
    "    print(\"Authentication successful!\")\n",
    "    _url = \"https://test-www.fisheries.noaa.gov/inport/api/get-session-id\"\n",
    "    session_id_response = requests.post(_url, json = credentials)\n",
    "    session_id_dict = copy.deepcopy(session_id_response.json())\n",
    "    print(session_id_dict)\n",
    "    session_id_response.close()\n",
    "    del _url, session_id_response    \n",
    "    \n",
    "    session_id_dict[\"contactType\"]  = \"Person\"\n",
    "    session_id_dict[\"emailAddress\"] = \"john.f.kennedy@noaa.gov\"\n",
    "    \n",
    "    _url = \"https://test-www.fisheries.noaa.gov/inport/api/find-contact\"\n",
    "    response = requests.get(_url, params = session_id_dict)        \n",
    "    #print(response.json())\n",
    "    _dict = copy.deepcopy(response.json())\n",
    "    \n",
    "    response.close()\n",
    "    del response, _url\n",
    "    \n",
    "    for key in _dict:\n",
    "        print(key)\n",
    "        if isinstance(_dict[key], dict):\n",
    "            for k in _dict[key]:\n",
    "                print(f\"\\t{k}: {_dict[key][k]}\")\n",
    "        elif isinstance(_dict[key], list):\n",
    "            for i in range(0, len(_dict[key])):\n",
    "                for k in _dict[key][i]:\n",
    "                    print(f\"\\t{k}: {_dict[key][i][k]}\")\n",
    "\n",
    "\n",
    "elif inport_response.status_code == 401:\n",
    "    print(\"Authentication NOT successful!\")\n",
    "else:\n",
    "    print(f\"Something is wrong!! Status Code: {response.status_code}\")\n",
    "inport_response.close()\n",
    "del inport_response, inport_url\n",
    "# RESULT \n",
    "# Authentication successful!\n",
    "# {'sessionId': '75c3628752d91a126fcbded22998f3e'}\n",
    "# results\n",
    "# \tlastName: Kennedy\n",
    "# \tfirstName: John\n",
    "# \tmiddleName: F\n",
    "# \tphone: 301-427-8149\n",
    "# \temailAddress: john.f.kennedy@noaa.gov\n",
    "# \taddress: 1315 East-West Highway\n",
    "# \tcity: Silver Spring\n",
    "# \tstateProvince: MD\n",
    "# \tpostalCode: 20910\n",
    "# \tcountry: USA\n",
    "# \tcontactType: Person\n",
    "# \trorMaxLength: 9\n",
    "# \torcIdMaxLength: 19"
   ]
  },
  {
   "cell_type": "markdown",
   "metadata": {},
   "source": [
    "### Endpoints ###"
   ]
  },
  {
   "cell_type": "markdown",
   "metadata": {},
   "source": [
    "#### /inport/api/find-person ####\n",
    "#### (POST) ####"
   ]
  },
  {
   "cell_type": "code",
   "execution_count": null,
   "metadata": {},
   "outputs": [],
   "source": [
    "import requests, json, copy\n",
    "inport_url = \"https://test-www.fisheries.noaa.gov/inport\"\n",
    "inport_response = requests.get(url=inport_url, auth=(credentials[\"username\"], credentials[\"password\"]))\n",
    "if inport_response.status_code == 200:\n",
    "    print(\"Authentication successful!\")\n",
    "    _url = \"https://test-www.fisheries.noaa.gov/inport/api/get-session-id\"\n",
    "    session_id_response = requests.post(_url, json = credentials)\n",
    "    session_id_dict = copy.deepcopy(session_id_response.json())\n",
    "    #print(session_id_dict)\n",
    "    session_id_response.close()\n",
    "    del _url, session_id_response       \n",
    "    \n",
    "    session_id_dict[\"firstName\"]  = \"John\"\n",
    "    session_id_dict[\"middleName\"] = \"F\"\n",
    "    session_id_dict[\"lastName\"]   = \"Kennedy\"\n",
    "    print(session_id_dict)\n",
    "\n",
    "    _url = \"https://test-www.fisheries.noaa.gov/inport/api/find-person\"\n",
    "    response = requests.get(_url, params = session_id_dict)        \n",
    "    print(response.json())\n",
    "    _dict = copy.deepcopy(response.json())\n",
    "    response.close()\n",
    "    del response, _url\n",
    "    \n",
    "    for key in _dict:\n",
    "        print(key)\n",
    "        if isinstance(_dict[key], dict):\n",
    "            for k in _dict[key]:\n",
    "                print(f\"\\t{k}: {_dict[key][k]}\")\n",
    "        elif isinstance(_dict[key], list):\n",
    "            for i in range(0, len(_dict[key])):\n",
    "                for k in _dict[key][i]:\n",
    "                    print(f\"\\t{k}: {_dict[key][i][k]}\")\n",
    "\n",
    "\n",
    "elif inport_response.status_code == 401:\n",
    "    print(\"Authentication NOT successful!\")\n",
    "else:\n",
    "    print(f\"Something is wrong!! Status Code: {response.status_code}\")\n",
    "inport_response.close()\n",
    "del inport_response, inport_url\n",
    "# RESULT \n",
    "# Authentication successful!\n",
    "# {'sessionId': '75c3628752d91a126fcbded22998f3e'}\n",
    "# results\n",
    "# \tlastName: Kennedy\n",
    "# \tfirstName: John\n",
    "# \tmiddleName: F\n",
    "# \tphone: 301-427-8149\n",
    "# \temailAddress: john.f.kennedy@noaa.gov\n",
    "# \taddress: 1315 East-West Highway\n",
    "# \tcity: Silver Spring\n",
    "# \tstateProvince: MD\n",
    "# \tpostalCode: 20910\n",
    "# \tcountry: USA\n",
    "# \tcontactType: Person\n",
    "# \trorMaxLength: 9\n",
    "# \torcIdMaxLength: 19"
   ]
  },
  {
   "cell_type": "markdown",
   "metadata": {},
   "source": [
    "#### /inport/api/find-organization ####\n",
    "#### (POST) ####"
   ]
  },
  {
   "cell_type": "code",
   "execution_count": null,
   "metadata": {},
   "outputs": [],
   "source": [
    "import requests, json, copy\n",
    "inport_url = \"https://test-www.fisheries.noaa.gov/inport\"\n",
    "inport_response = requests.get(url=inport_url, auth=(credentials[\"username\"], credentials[\"password\"]))\n",
    "if inport_response.status_code == 200:\n",
    "    print(\"Authentication successful!\")\n",
    "    _url = \"https://test-www.fisheries.noaa.gov/inport/api/get-session-id\"\n",
    "    session_id_response = requests.post(_url, json = credentials)\n",
    "    session_id_dict = copy.deepcopy(session_id_response.json())\n",
    "    #print(session_id_dict)\n",
    "    session_id_response.close()\n",
    "    del _url, session_id_response       \n",
    "    \n",
    "    session_id_dict[\"organizationName\"]  = \"NMFS Office of Science and Technology\"\n",
    "    print(session_id_dict)\n",
    "\n",
    "    _url = \"https://test-www.fisheries.noaa.gov/inport/api/find-organization\"\n",
    "    response = requests.get(_url, params = session_id_dict)        \n",
    "    print(response.json())\n",
    "    _dict = copy.deepcopy(response.json())\n",
    "    response.close()\n",
    "    del response, _url\n",
    "    \n",
    "    for key in _dict:\n",
    "        print(key)\n",
    "        if isinstance(_dict[key], dict):\n",
    "            for k in _dict[key]:\n",
    "                print(f\"\\t{k}: {_dict[key][k]}\")\n",
    "        elif isinstance(_dict[key], list):\n",
    "            for i in range(0, len(_dict[key])):\n",
    "                for k in _dict[key][i]:\n",
    "                    print(f\"\\t{k}: {_dict[key][i][k]}\")\n",
    "\n",
    "\n",
    "elif inport_response.status_code == 401:\n",
    "    print(\"Authentication NOT successful!\")\n",
    "else:\n",
    "    print(f\"Something is wrong!! Status Code: {response.status_code}\")\n",
    "inport_response.close()\n",
    "del inport_response, inport_url\n",
    "# RESULT \n",
    "# Authentication successful!\n",
    "# {'sessionId': 'f0a9190579b46115943bad0f', 'organizationName': 'NMFS Office of Science and Technology'}\n",
    "# {'results': [{'organizationName': 'NMFS Office of Science and Technology', 'noaaAcronym': 'OST', 'phone': '301-427-8100', 'address': '1315 East West Highway', 'city': 'Silver Spring', 'stateProvince': 'MD', 'postalCode': '20910', 'country': 'USA', 'url': 'https://www.st.nmfs.noaa.gov/', 'businessHours': '0700 - 1800 EST/EDT', 'contactType': 'Organization', 'rorMaxLength': 9, 'orcIdMaxLength': 19}]}\n",
    "# results\n",
    "# \torganizationName: NMFS Office of Science and Technology\n",
    "# \tnoaaAcronym: OST\n",
    "# \tphone: 301-427-8100\n",
    "# \taddress: 1315 East West Highway\n",
    "# \tcity: Silver Spring\n",
    "# \tstateProvince: MD\n",
    "# \tpostalCode: 20910\n",
    "# \tcountry: USA\n",
    "# \turl: https://www.st.nmfs.noaa.gov/\n",
    "# \tbusinessHours: 0700 - 1800 EST/EDT\n",
    "# \tcontactType: Organization\n",
    "# \trorMaxLength: 9\n",
    "# \torcIdMaxLength: 19"
   ]
  },
  {
   "cell_type": "markdown",
   "metadata": {},
   "source": [
    "#### /inport/api/find-organization-acronym ####\n",
    "#### (POST) ####"
   ]
  },
  {
   "cell_type": "code",
   "execution_count": null,
   "metadata": {},
   "outputs": [],
   "source": [
    "import requests, json, copy\n",
    "inport_url = \"https://test-www.fisheries.noaa.gov/inport\"\n",
    "inport_response = requests.get(url=inport_url, auth=(credentials[\"username\"], credentials[\"password\"]))\n",
    "if inport_response.status_code == 200:\n",
    "    print(\"Authentication successful!\")\n",
    "    _url = \"https://test-www.fisheries.noaa.gov/inport/api/get-session-id\"\n",
    "    session_id_response = requests.post(_url, json = credentials)\n",
    "    session_id_dict = copy.deepcopy(session_id_response.json())\n",
    "    #print(session_id_dict)\n",
    "    session_id_response.close()\n",
    "    del _url, session_id_response       \n",
    "    \n",
    "    session_id_dict[\"noaaAcronym\"] = \"OST\"\n",
    "    print(session_id_dict)\n",
    "\n",
    "    _url = \"https://test-www.fisheries.noaa.gov/inport/api/find-organization-acronym\"\n",
    "    response = requests.get(_url, params = session_id_dict)        \n",
    "    print(response.json())\n",
    "    _dict = copy.deepcopy(response.json())\n",
    "    response.close()\n",
    "    del response, _url\n",
    "    \n",
    "    for key in _dict:\n",
    "        print(key)\n",
    "        if isinstance(_dict[key], dict):\n",
    "            for k in _dict[key]:\n",
    "                print(f\"\\t{k}: {_dict[key][k]}\")\n",
    "        elif isinstance(_dict[key], list):\n",
    "            for i in range(0, len(_dict[key])):\n",
    "                for k in _dict[key][i]:\n",
    "                    print(f\"\\t{k}: {_dict[key][i][k]}\")\n",
    "\n",
    "\n",
    "elif inport_response.status_code == 401:\n",
    "    print(\"Authentication NOT successful!\")\n",
    "else:\n",
    "    print(f\"Something is wrong!! Status Code: {response.status_code}\")\n",
    "inport_response.close()\n",
    "del inport_response, inport_url\n",
    "# RESULT \n",
    "# Authentication successful!\n",
    "# {'sessionId': 'f0a9190579b46115943bad0f', 'organizationName': 'NMFS Office of Science and Technology'}\n",
    "# {'results': [{'organizationName': 'NMFS Office of Science and Technology', 'noaaAcronym': 'OST', 'phone': '301-427-8100', 'address': '1315 East West Highway', 'city': 'Silver Spring', 'stateProvince': 'MD', 'postalCode': '20910', 'country': 'USA', 'url': 'https://www.st.nmfs.noaa.gov/', 'businessHours': '0700 - 1800 EST/EDT', 'contactType': 'Organization', 'rorMaxLength': 9, 'orcIdMaxLength': 19}]}\n",
    "# results\n",
    "# \torganizationName: NMFS Office of Science and Technology\n",
    "# \tnoaaAcronym: OST\n",
    "# \tphone: 301-427-8100\n",
    "# \taddress: 1315 East West Highway\n",
    "# \tcity: Silver Spring\n",
    "# \tstateProvince: MD\n",
    "# \tpostalCode: 20910\n",
    "# \tcountry: USA\n",
    "# \turl: https://www.st.nmfs.noaa.gov/\n",
    "# \tbusinessHours: 0700 - 1800 EST/EDT\n",
    "# \tcontactType: Organization\n",
    "# \trorMaxLength: 9\n",
    "# \torcIdMaxLength: 19"
   ]
  },
  {
   "cell_type": "markdown",
   "metadata": {},
   "source": [
    "#### /inport/api/find-position\n",
    "#### (POST)\n",
    "#### NOTE: not sure how to look for \"position\""
   ]
  },
  {
   "cell_type": "code",
   "execution_count": null,
   "metadata": {},
   "outputs": [],
   "source": [
    "import requests, json, copy\n",
    "inport_url = \"https://test-www.fisheries.noaa.gov/inport\"\n",
    "inport_response = requests.get(url=inport_url, auth=(credentials[\"username\"], credentials[\"password\"]))\n",
    "if inport_response.status_code == 200:\n",
    "    print(\"Authentication successful!\")\n",
    "    _url = \"https://test-www.fisheries.noaa.gov/inport/api/get-session-id\"\n",
    "    session_id_response = requests.post(_url, json = credentials)\n",
    "    session_id_dict = copy.deepcopy(session_id_response.json())\n",
    "    #print(session_id_dict)\n",
    "    session_id_response.close()\n",
    "    del _url, session_id_response       \n",
    "    \n",
    "    session_id_dict[\"positionName\"] = \"Geologist\"\n",
    "    print(session_id_dict)\n",
    "\n",
    "    _url = \"https://test-www.fisheries.noaa.gov/inport/api/find-position\"\n",
    "    response = requests.get(_url, params = session_id_dict)        \n",
    "    print(response.json())\n",
    "    _dict = copy.deepcopy(response.json())\n",
    "    response.close()\n",
    "    del response, _url\n",
    "    \n",
    "    for key in _dict:\n",
    "        print(key)\n",
    "        if isinstance(_dict[key], dict):\n",
    "            for k in _dict[key]:\n",
    "                print(f\"\\t{k}: {_dict[key][k]}\")\n",
    "        elif isinstance(_dict[key], list):\n",
    "            for i in range(0, len(_dict[key])):\n",
    "                for k in _dict[key][i]:\n",
    "                    print(f\"\\t{k}: {_dict[key][i][k]}\")\n",
    "\n",
    "elif inport_response.status_code == 401:\n",
    "    print(\"Authentication NOT successful!\")\n",
    "else:\n",
    "    print(f\"Something is wrong!! Status Code: {response.status_code}\")\n",
    "inport_response.close()\n",
    "del inport_response, inport_url\n",
    "# RESULT \n",
    "# Authentication successful!\n",
    "# {'sessionId': 'f0a9190579b46115943bad0f', 'organizationName': 'NMFS Office of Science and Technology'}\n",
    "# {'results': [{'organizationName': 'NMFS Office of Science and Technology', 'noaaAcronym': 'OST', 'phone': '301-427-8100', 'address': '1315 East West Highway', 'city': 'Silver Spring', 'stateProvince': 'MD', 'postalCode': '20910', 'country': 'USA', 'url': 'https://www.st.nmfs.noaa.gov/', 'businessHours': '0700 - 1800 EST/EDT', 'contactType': 'Organization', 'rorMaxLength': 9, 'orcIdMaxLength': 19}]}\n",
    "# results\n",
    "# \torganizationName: NMFS Office of Science and Technology\n",
    "# \tnoaaAcronym: OST\n",
    "# \tphone: 301-427-8100\n",
    "# \taddress: 1315 East West Highway\n",
    "# \tcity: Silver Spring\n",
    "# \tstateProvince: MD\n",
    "# \tpostalCode: 20910\n",
    "# \tcountry: USA\n",
    "# \turl: https://www.st.nmfs.noaa.gov/\n",
    "# \tbusinessHours: 0700 - 1800 EST/EDT\n",
    "# \tcontactType: Organization\n",
    "# \trorMaxLength: 9\n",
    "# \torcIdMaxLength: 19"
   ]
  },
  {
   "cell_type": "markdown",
   "metadata": {},
   "source": [
    "#### /inport/api/add-contact ####\n",
    "#### (POST) ####\n",
    "##### Note: not used at this time #####"
   ]
  },
  {
   "cell_type": "markdown",
   "metadata": {},
   "source": [
    "## Search API Specs ###"
   ]
  },
  {
   "cell_type": "markdown",
   "metadata": {},
   "source": [
    "### Endpoints ###"
   ]
  },
  {
   "cell_type": "markdown",
   "metadata": {},
   "source": [
    "#### /inport/api/search ####\n",
    "#### (GET) ####"
   ]
  },
  {
   "cell_type": "code",
   "execution_count": null,
   "metadata": {},
   "outputs": [],
   "source": [
    "import requests, json, copy\n",
    "inport_url = \"https://test-www.fisheries.noaa.gov/inport\"\n",
    "inport_response = requests.get(url=inport_url, auth=(credentials[\"username\"], credentials[\"password\"]))\n",
    "if inport_response.status_code == 200:\n",
    "    print(\"Authentication successful!\")\n",
    "    _url = \"https://test-www.fisheries.noaa.gov/inport/api/get-session-id\"\n",
    "    session_id_response = requests.post(_url, json = credentials)\n",
    "    session_id_dict = copy.deepcopy(session_id_response.json())\n",
    "    #print(session_id_dict)\n",
    "    session_id_response.close()\n",
    "    del _url, session_id_response       \n",
    "    \n",
    "    session_id_dict[\"keywords\"]    = \"environment\"\n",
    "    session_id_dict[\"org\"]         = \"OST\"\n",
    "    session_id_dict[\"catItemType\"] = \"DS,ENT,PRJ\"\n",
    "    print(session_id_dict)\n",
    "\n",
    "    _url = \"https://test-www.fisheries.noaa.gov/inport/api/search\"\n",
    "    response = requests.get(_url, params = session_id_dict)        \n",
    "    #print(response.json())\n",
    "    _dict = copy.deepcopy(response.json())\n",
    "    response.close()\n",
    "    del response, _url\n",
    "    \n",
    "    for key in _dict:\n",
    "        print(key)\n",
    "        if isinstance(_dict[key], dict):\n",
    "            for k in _dict[key]:\n",
    "                print(f\"\\t{k}: {_dict[key][k]}\")\n",
    "        elif isinstance(_dict[key], list):\n",
    "            for i in range(0, len(_dict[key])):\n",
    "                for k in _dict[key][i]:\n",
    "                    print(f\"\\t{k}: {_dict[key][i][k]}\")\n",
    "\n",
    "elif inport_response.status_code == 401:\n",
    "    print(\"Authentication NOT successful!\")\n",
    "else:\n",
    "    print(f\"Something is wrong!! Status Code: {response.status_code}\")\n",
    "inport_response.close()\n",
    "del inport_response, inport_url\n",
    "# RESULT \n",
    "# Authentication successful!\n",
    "# {'sessionId': '75c3628752d91a126fcbded22998f3e'}\n",
    "# results\n",
    "# \tcatId: 20784\n",
    "# \tcatItemType: Project\n",
    "# \torg: OST\n",
    "# \ttitle: Large Marine Ecosystems (LME)\n",
    "# \tabstractValue: Large Marine Ecosystems (LME) are ocean regions of 200,000 km2 or greater that are defined by ecological criteria, including bathymetry, hydrography, marine productivity, and trophically linked populations.  Since 1984, NOAA?s LME Program has developed ecosystem management tools, initiated projects that have been funded by partner organizations, and provided training for developing country part..."
   ]
  },
  {
   "cell_type": "code",
   "execution_count": null,
   "metadata": {},
   "outputs": [],
   "source": []
  },
  {
   "cell_type": "code",
   "execution_count": null,
   "metadata": {},
   "outputs": [],
   "source": []
  },
  {
   "cell_type": "code",
   "execution_count": null,
   "metadata": {},
   "outputs": [],
   "source": []
  }
 ],
 "metadata": {
  "kernelspec": {
   "display_name": "ArcGISPro",
   "language": "python",
   "name": "python3"
  },
  "language_info": {
   "file_extension": ".py",
   "mimetype": "text/x-python",
   "name": "python",
   "version": "3.11.10"
  }
 },
 "nbformat": 4,
 "nbformat_minor": 4
}
